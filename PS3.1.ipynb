{
 "cells": [
  {
   "cell_type": "code",
   "execution_count": 1,
   "metadata": {},
   "outputs": [
    {
     "name": "stdout",
     "output_type": "stream",
     "text": [
      "The Highest Water Level is: ('2018-10-10 18:06', '6.647')\n"
     ]
    }
   ],
   "source": [
    "####open the data file \n",
    "wlhandle = open('PS3Data.csv')\n",
    "\n",
    "####create function \n",
    "def highest_num(wlhandle):\n",
    "    \n",
    "    ####create empty dictionary\n",
    "    date_water_dict = {}\n",
    "    \n",
    "    ####iterate through all individual lines\n",
    "    for line in wlhandle:\n",
    "        ####then split individual line with comma\n",
    "        entire_line = line.split(\",\")\n",
    "        ####create new variables to get the date and water level values only\n",
    "        ####I want the first column [0] for date and second column [1] for water level\n",
    "        date = entire_line[0]\n",
    "        water_level = entire_line[1]\n",
    "        #store date as key and water level as value inside the dictionary\n",
    "        date_water_dict[date] = water_level\n",
    "        \n",
    "    ####define max_num as the max value from date_water_dict values\n",
    "    max_num = max(date_water_dict.values())\n",
    "    ####iterate through each date/water level in date_water_dict dictionary\n",
    "    for value in date_water_dict.items():\n",
    "        ####if the water level [1] is the max then return the date/water level values \n",
    "        if value[1] == max_num:\n",
    "            return value\n",
    "\n",
    "####print the values of the function\n",
    "print(\"The Highest Water Level is:\", highest_num(wlhandle))\n",
    "\n",
    "\n"
   ]
  },
  {
   "cell_type": "code",
   "execution_count": null,
   "metadata": {},
   "outputs": [],
   "source": []
  }
 ],
 "metadata": {
  "kernelspec": {
   "display_name": "Python 3.8 (full)",
   "language": "python",
   "name": "python3-3.8-ufrc"
  },
  "language_info": {
   "codemirror_mode": {
    "name": "ipython",
    "version": 3
   },
   "file_extension": ".py",
   "mimetype": "text/x-python",
   "name": "python",
   "nbconvert_exporter": "python",
   "pygments_lexer": "ipython3",
   "version": "3.8.1"
  }
 },
 "nbformat": 4,
 "nbformat_minor": 4
}

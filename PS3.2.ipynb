{
 "cells": [
  {
   "cell_type": "code",
   "execution_count": 1,
   "metadata": {},
   "outputs": [
    {
     "name": "stdout",
     "output_type": "stream",
     "text": [
      "Date: 2018-10-10 18:06     Max Water Level: 6.647\n"
     ]
    }
   ],
   "source": [
    "####open and read the file using handle\n",
    "data = 'PS3Data.csv'\n",
    "wlhandle = open(data, 'r')\n",
    "\n",
    "####define function\n",
    "def highest_num(wlhandle):\n",
    "    \n",
    "    ####import pandas \n",
    "    import pandas as pd\n",
    "    \n",
    "    ####create dataframe with the date and water levels \n",
    "    df=pd.read_csv(wlhandle, usecols=[0,1])\n",
    "    \n",
    "    ####store the maximum water level in a variable \n",
    "    max_num = df.max()[1]\n",
    "    \n",
    "    ####iterate through each row and store date into variable d, water level into variable w\n",
    "    for i, row in df.iterrows():\n",
    "        d = row[0]\n",
    "        w = row[1]\n",
    "        ####format the date and max water level as a string, store in variable statement\n",
    "        statement = \"Date: {0}     Max Water Level: {1}\".format(d, w)\n",
    "        ####if the water level is the max value, return date and water level as formatted in statement \n",
    "        if w == max_num:\n",
    "            return statement\n",
    "\n",
    "####print the results of the function \n",
    "print(highest_num(wlhandle))\n",
    "\n",
    "\n"
   ]
  },
  {
   "cell_type": "code",
   "execution_count": null,
   "metadata": {},
   "outputs": [],
   "source": []
  },
  {
   "cell_type": "code",
   "execution_count": null,
   "metadata": {},
   "outputs": [],
   "source": []
  },
  {
   "cell_type": "code",
   "execution_count": 2,
   "metadata": {},
   "outputs": [],
   "source": []
  },
  {
   "cell_type": "code",
   "execution_count": null,
   "metadata": {},
   "outputs": [],
   "source": []
  }
 ],
 "metadata": {
  "kernelspec": {
   "display_name": "Python 3.8 (full)",
   "language": "python",
   "name": "python3-3.8-ufrc"
  },
  "language_info": {
   "codemirror_mode": {
    "name": "ipython",
    "version": 3
   },
   "file_extension": ".py",
   "mimetype": "text/x-python",
   "name": "python",
   "nbconvert_exporter": "python",
   "pygments_lexer": "ipython3",
   "version": "3.8.1"
  }
 },
 "nbformat": 4,
 "nbformat_minor": 4
}

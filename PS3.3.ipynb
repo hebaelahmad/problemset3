{
 "cells": [
  {
   "cell_type": "code",
   "execution_count": 9,
   "metadata": {},
   "outputs": [
    {
     "name": "stdout",
     "output_type": "stream",
     "text": [
      "Date: 2018-10-10 17:42     Max Change in Water Level: 0.6399999999999997\n"
     ]
    }
   ],
   "source": [
    "####open and read the file using handle\n",
    "data = 'PS3Data.csv'\n",
    "wlhandle = open(data, 'r')\n",
    "\n",
    "####define function\n",
    "def highest_change(wlhandle):\n",
    "    \n",
    "    ####import pandas \n",
    "    import pandas as pd\n",
    "    \n",
    "    ####create dataframe with the date and water levels \n",
    "    df=pd.read_csv(wlhandle, usecols=[0,1])\n",
    "    ####Add change column for the difference in water level values \n",
    "    df['Change'] = df[' Water Level'].diff()\n",
    "    \n",
    "    ####find the max change in water levels \n",
    "    max_num = df.max()[2]\n",
    "    \n",
    "    #iterate through each row, store date into variable d, store change into variable c \n",
    "    for i, row in df.iterrows():\n",
    "        d = row[0]\n",
    "        c = row[2]\n",
    "        ####format the date and change as a string, store in variable statement\n",
    "        statement = \"Date: {0}     Max Change in Water Level: {1}\".format(d, c)\n",
    "        ####if the change is the max value, return date and change as formatted in statement \n",
    "        if c == max_num:\n",
    "            return statement\n",
    "\n",
    "####print the results of the function \n",
    "print(highest_change(wlhandle))\n",
    "\n"
   ]
  },
  {
   "cell_type": "code",
   "execution_count": null,
   "metadata": {},
   "outputs": [],
   "source": []
  }
 ],
 "metadata": {
  "kernelspec": {
   "display_name": "Python 3.8 (full)",
   "language": "python",
   "name": "python3-3.8-ufrc"
  },
  "language_info": {
   "codemirror_mode": {
    "name": "ipython",
    "version": 3
   },
   "file_extension": ".py",
   "mimetype": "text/x-python",
   "name": "python",
   "nbconvert_exporter": "python",
   "pygments_lexer": "ipython3",
   "version": "3.8.1"
  }
 },
 "nbformat": 4,
 "nbformat_minor": 4
}
